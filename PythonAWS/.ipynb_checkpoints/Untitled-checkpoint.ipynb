{
 "cells": [
  {
   "cell_type": "code",
   "execution_count": 1,
   "metadata": {},
   "outputs": [],
   "source": [
    "class MyClass:\n",
    "    variable = \"blah\"\n",
    "    def welcome(self):\n",
    "        print(\"This is a message inside the class for : \", self.variable)\n",
    "        "
   ]
  },
  {
   "cell_type": "code",
   "execution_count": 8,
   "metadata": {},
   "outputs": [],
   "source": [
    "obj = MyClass()\n",
    "type(obj)\n",
    "a= [1,2,3]\n",
    "b = 2\n"
   ]
  },
  {
   "cell_type": "code",
   "execution_count": 10,
   "metadata": {},
   "outputs": [
    {
     "name": "stdout",
     "output_type": "stream",
     "text": [
      "<class 'list'>\n",
      "<class 'int'>\n",
      "<class '__main__.MyClass'>\n"
     ]
    },
    {
     "data": {
      "text/plain": [
       "list"
      ]
     },
     "execution_count": 10,
     "metadata": {},
     "output_type": "execute_result"
    }
   ],
   "source": [
    "print(type(a))\n",
    "print(type(b))\n",
    "print(type(obj))\n",
    "type(a)"
   ]
  },
  {
   "cell_type": "code",
   "execution_count": 25,
   "metadata": {},
   "outputs": [],
   "source": [
    "import os, sys\n",
    "f= open(\"guru99.txt\",\"r\")\n",
    "for i in range(10):\n",
    "     f.write(\"This is line %d\\r\\n\" % (i+1))\n",
    "f.flush()\n",
    "#os.fsync(f.fileno())|"
   ]
  },
  {
   "cell_type": "code",
   "execution_count": 28,
   "metadata": {},
   "outputs": [
    {
     "name": "stdout",
     "output_type": "stream",
     "text": [
      "['s line 1\\n', 'This is line 2\\n', 'This is line 3\\n', 'This is line 4\\n', 'This is line 5\\n', 'This is line 6\\n', 'This is line 7\\n', 'This is line 8\\n', 'This is line 9\\n', 'This is line 10\\n']\n",
      "['s line 1\\n', 'This is line 2\\n', 'This is line 3\\n', 'This is line 4\\n', 'This is line 5\\n', 'This is line 6\\n', 'This is line 7\\n', 'This is line 8\\n', 'This is line 9\\n', 'This is line 10\\n']\n",
      "['s line 1\\n', 'This is line 2\\n', 'This is line 3\\n', 'This is line 4\\n', 'This is line 5\\n', 'This is line 6\\n', 'This is line 7\\n', 'This is line 8\\n', 'This is line 9\\n', 'This is line 10\\n']\n",
      "['s line 1\\n', 'This is line 2\\n', 'This is line 3\\n', 'This is line 4\\n', 'This is line 5\\n', 'This is line 6\\n', 'This is line 7\\n', 'This is line 8\\n', 'This is line 9\\n', 'This is line 10\\n']\n",
      "['s line 1\\n', 'This is line 2\\n', 'This is line 3\\n', 'This is line 4\\n', 'This is line 5\\n', 'This is line 6\\n', 'This is line 7\\n', 'This is line 8\\n', 'This is line 9\\n', 'This is line 10\\n']\n",
      "['s line 1\\n', 'This is line 2\\n', 'This is line 3\\n', 'This is line 4\\n', 'This is line 5\\n', 'This is line 6\\n', 'This is line 7\\n', 'This is line 8\\n', 'This is line 9\\n', 'This is line 10\\n']\n",
      "['s line 1\\n', 'This is line 2\\n', 'This is line 3\\n', 'This is line 4\\n', 'This is line 5\\n', 'This is line 6\\n', 'This is line 7\\n', 'This is line 8\\n', 'This is line 9\\n', 'This is line 10\\n']\n",
      "['s line 1\\n', 'This is line 2\\n', 'This is line 3\\n', 'This is line 4\\n', 'This is line 5\\n', 'This is line 6\\n', 'This is line 7\\n', 'This is line 8\\n', 'This is line 9\\n', 'This is line 10\\n']\n",
      "['s line 1\\n', 'This is line 2\\n', 'This is line 3\\n', 'This is line 4\\n', 'This is line 5\\n', 'This is line 6\\n', 'This is line 7\\n', 'This is line 8\\n', 'This is line 9\\n', 'This is line 10\\n']\n",
      "['s line 1\\n', 'This is line 2\\n', 'This is line 3\\n', 'This is line 4\\n', 'This is line 5\\n', 'This is line 6\\n', 'This is line 7\\n', 'This is line 8\\n', 'This is line 9\\n', 'This is line 10\\n']\n",
      "no values\n"
     ]
    }
   ],
   "source": [
    "#f.flush()\n",
    "n = f.readlines()\n",
    "for i in n:\n",
    "    print (n)\n",
    "print (\"no values\")"
   ]
  },
  {
   "cell_type": "code",
   "execution_count": 27,
   "metadata": {},
   "outputs": [
    {
     "data": {
      "text/plain": [
       "'i'"
      ]
     },
     "execution_count": 27,
     "metadata": {},
     "output_type": "execute_result"
    }
   ],
   "source": [
    "f.seek(5)      # Go to the 6th byte in the file\n",
    "f.read(1)\n"
   ]
  },
  {
   "cell_type": "code",
   "execution_count": 17,
   "metadata": {},
   "outputs": [],
   "source": [
    "f1 = open(\"guru99.txt\",\"r+\")"
   ]
  },
  {
   "cell_type": "code",
   "execution_count": 4,
   "metadata": {},
   "outputs": [
    {
     "data": {
      "text/plain": [
       "'This is line 1\\nThis is line 2\\nThis is line 3\\nThis is line 4\\nThis is line 5\\nThis is line 6\\nThis is line 7\\nThis is line 8\\nThis is line 9\\nThis is line 10\\n'"
      ]
     },
     "execution_count": 4,
     "metadata": {},
     "output_type": "execute_result"
    }
   ],
   "source": [
    "f1.read()"
   ]
  },
  {
   "cell_type": "code",
   "execution_count": null,
   "metadata": {},
   "outputs": [],
   "source": []
  }
 ],
 "metadata": {
  "kernelspec": {
   "display_name": "Python 3",
   "language": "python",
   "name": "python3"
  },
  "language_info": {
   "codemirror_mode": {
    "name": "ipython",
    "version": 3
   },
   "file_extension": ".py",
   "mimetype": "text/x-python",
   "name": "python",
   "nbconvert_exporter": "python",
   "pygments_lexer": "ipython3",
   "version": "3.6.4"
  }
 },
 "nbformat": 4,
 "nbformat_minor": 2
}
