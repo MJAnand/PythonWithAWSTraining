{
 "cells": [
  {
   "cell_type": "code",
   "execution_count": 1,
   "metadata": {},
   "outputs": [],
   "source": [
    "import boto3\n",
    "#function to the connect to s3 resource\n",
    "#and iterate the list of buckets found\n",
    "bucket_name_1 = 'my-first-test-aws-bucket'\n",
    "bucket_name_2 = 'my-second-test-aws-bucket'\n",
    "\n",
    "def displayAllBuckets():\n",
    "    #iterating the list of buckets in s3\n",
    "    s3 = boto3.resource(\"s3\")\n",
    "    bucketList = list(s3.buckets.all())\n",
    "    if bucketList:\n",
    "        print(\"Listing your buckets\")\n",
    "    for bucket in bucketList:\n",
    "        print('#',bucket.name)\n",
    "    #Iterating all the keys inside a bucket\n",
    "        for key in bucket.objects.all():\n",
    "            print(\"  $\",key.key)\n",
    "    print(\"Done listing!\" if bucketList else \"SORRY, NO BUCKETS FOUND\")\n"
   ]
  },
  {
   "cell_type": "code",
   "execution_count": 2,
   "metadata": {},
   "outputs": [],
   "source": [
    "# function to delete a specific bucket (iterating all the keys inside a bucket)\n",
    "def deleteAll(bucket_name):\n",
    "    s3 = boto3.resource(\"s3\")\n",
    "    bucket = s3.Bucket(bucket_name)\n",
    "    for key in bucket.objects.all():\n",
    "        key.delete()\n",
    "    bucket.delete()"
   ]
  },
  {
   "cell_type": "code",
   "execution_count": 3,
   "metadata": {},
   "outputs": [],
   "source": [
    "#clear entire test created buckets\n",
    "def clear_entire_s3():\n",
    "    deleteAll(bucket_name_1)\n",
    "    deleteAll(bucket_name_2)\n",
    "#clear_entire_s3()"
   ]
  },
  {
   "cell_type": "code",
   "execution_count": 4,
   "metadata": {},
   "outputs": [
    {
     "name": "stdout",
     "output_type": "stream",
     "text": [
      "SORRY, NO BUCKETS FOUND\n"
     ]
    }
   ],
   "source": [
    "#Listing all buckets in s3\n",
    "displayAllBuckets()"
   ]
  },
  {
   "cell_type": "code",
   "execution_count": 5,
   "metadata": {},
   "outputs": [
    {
     "name": "stdout",
     "output_type": "stream",
     "text": [
      "Listing your buckets\n",
      "# my-first-test-aws-bucket\n",
      "Done listing!\n"
     ]
    }
   ],
   "source": [
    "#creating the first bucket\n",
    "s3 = boto3.resource(\"s3\")\n",
    "s3.create_bucket(Bucket=bucket_name_1)\n",
    "displayAllBuckets()"
   ]
  },
  {
   "cell_type": "code",
   "execution_count": 7,
   "metadata": {},
   "outputs": [
    {
     "name": "stdout",
     "output_type": "stream",
     "text": [
      "Listing your buckets\n",
      "# my-first-test-aws-bucket\n",
      "# my-second-test-aws-bucket\n",
      "Done listing!\n"
     ]
    }
   ],
   "source": [
    "#creating the second bucket\n",
    "s3.create_bucket(Bucket=bucket_name_2)\n",
    "displayAllBuckets()"
   ]
  },
  {
   "cell_type": "code",
   "execution_count": 8,
   "metadata": {},
   "outputs": [
    {
     "name": "stdout",
     "output_type": "stream",
     "text": [
      "Listing your buckets\n",
      "# my-first-test-aws-bucket\n",
      "  $ my_profile_in_s3.txt\n",
      "# my-second-test-aws-bucket\n",
      "  $ my_profile_in_s3.txt\n",
      "Done listing!\n"
     ]
    }
   ],
   "source": [
    "#uploading a file into s3\n",
    "filename = 'myprofile.txt'\n",
    "destination_filename = 'my_profile_in_s3.txt'\n",
    "\n",
    "s3 = boto3.resource('s3')\n",
    "\n",
    "# Uploads the given file using a managed uploader, which will split up large\n",
    "# files automatically and upload parts in parallel.\n",
    "s3.Bucket(bucket_name_1).upload_file(filename,destination_filename)\n",
    "s3.Bucket(bucket_name_2).upload_file(filename,destination_filename)\n",
    "\n",
    "#listing the buckets\n",
    "displayAllBuckets()"
   ]
  },
  {
   "cell_type": "code",
   "execution_count": 9,
   "metadata": {},
   "outputs": [
    {
     "name": "stdout",
     "output_type": "stream",
     "text": [
      "Listing your buckets\n",
      "# my-first-test-aws-bucket\n",
      "  $ my_profile_in_s3.txt\n",
      "Done listing!\n"
     ]
    }
   ],
   "source": [
    "#deleting a bucket\n",
    "deleteAll(bucket_name_2)\n",
    "#listing the buckets\n",
    "displayAllBuckets()"
   ]
  },
  {
   "cell_type": "code",
   "execution_count": 11,
   "metadata": {},
   "outputs": [
    {
     "name": "stdout",
     "output_type": "stream",
     "text": [
      "Listing your buckets\n",
      "# my-first-test-aws-bucket\n",
      "  $ my_profile_in_s3.txt\n",
      "Done listing!\n"
     ]
    }
   ],
   "source": [
    "#downloading a file from s3\n",
    "filename = 'my_profile_in_s3.txt'\n",
    "destination_filename = 'downloaded_profile_from_s3.txt'\n",
    "\n",
    "s3 = boto3.resource('s3')\n",
    "s3.Bucket(bucket_name_1).download_file(filename, destination_filename)\n",
    "#listing the buckets\n",
    "displayAllBuckets()"
   ]
  },
  {
   "cell_type": "code",
   "execution_count": 12,
   "metadata": {},
   "outputs": [
    {
     "name": "stdout",
     "output_type": "stream",
     "text": [
      "SORRY, NO BUCKETS FOUND\n"
     ]
    }
   ],
   "source": [
    "#deleting a bucket-1\n",
    "deleteAll(bucket_name_1)\n",
    "#listing the buckets\n",
    "displayAllBuckets()"
   ]
  },
  {
   "cell_type": "code",
   "execution_count": null,
   "metadata": {},
   "outputs": [],
   "source": []
  }
 ],
 "metadata": {
  "kernelspec": {
   "display_name": "Python 3",
   "language": "python",
   "name": "python3"
  },
  "language_info": {
   "codemirror_mode": {
    "name": "ipython",
    "version": 3
   },
   "file_extension": ".py",
   "mimetype": "text/x-python",
   "name": "python",
   "nbconvert_exporter": "python",
   "pygments_lexer": "ipython3",
   "version": "3.6.4"
  }
 },
 "nbformat": 4,
 "nbformat_minor": 2
}
